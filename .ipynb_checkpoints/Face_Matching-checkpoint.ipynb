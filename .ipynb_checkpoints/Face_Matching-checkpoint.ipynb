{
 "cells": [
  {
   "cell_type": "code",
   "execution_count": null,
   "id": "cbdbdee6-88d8-4e7d-b0b7-5f575cad2e90",
   "metadata": {},
   "outputs": [],
   "source": [
    "from deepface import DeepFace\n",
    "import os"
   ]
  },
  {
   "cell_type": "code",
   "execution_count": 14,
   "id": "d829d545-4a58-4512-bd7f-8db626874215",
   "metadata": {
    "tags": []
   },
   "outputs": [
    {
     "name": "stdout",
     "output_type": "stream",
     "text": [
      "Error: [WinError 3] The system cannot find the path specified: 'sa3dny2/sa3dny_project/Face match child images'\n",
      "Matched photos: None\n"
     ]
    }
   ],
   "source": [
    "from deepface import DeepFace\n",
    "import os\n",
    "\n",
    "class FaceMatcher:\n",
    "    def __init__(self, database_path):\n",
    "        self.database_path = database_path\n",
    "\n",
    "    def match_face(self, photo_path):\n",
    "        try:\n",
    "            database_photos = [os.path.join(self.database_path, file) for file in os.listdir(self.database_path) if file.endswith(('.jpg', '.jpeg', '.png'))]\n",
    "            \n",
    "            matched_photos = []\n",
    "            for db_photo in database_photos:\n",
    "                result = DeepFace.verify(photo_path, db_photo, model_name='Facenet')\n",
    "                if result['verified']:\n",
    "                    matched_photos.append(os.path.basename(db_photo))\n",
    "\n",
    "            return matched_photos\n",
    "        \n",
    "        except Exception as e:\n",
    "            print(\"Error:\", str(e))\n",
    "            return None\n",
    "\n",
    "\n",
    "matcher = FaceMatcher(database_path='sa3dny2/sa3dny_project/Face match child images')\n",
    "matched_photos = matcher.match_face('sa3dny2/sa3dny_project/Untitled.ipynb')\n",
    "print(\"Matched photos:\", matched_photos)\n"
   ]
  },
  {
   "cell_type": "code",
   "execution_count": null,
   "id": "83822199-855d-423b-a721-193ded44c95a",
   "metadata": {
    "tags": []
   },
   "outputs": [],
   "source": []
  },
  {
   "cell_type": "code",
   "execution_count": null,
   "id": "ec4d624f-b5c3-41fb-8c98-b432e642894e",
   "metadata": {},
   "outputs": [],
   "source": []
  },
  {
   "cell_type": "code",
   "execution_count": null,
   "id": "cb2604fe-74fd-4f09-a7f3-e3c5ade4ece8",
   "metadata": {},
   "outputs": [],
   "source": []
  }
 ],
 "metadata": {
  "kernelspec": {
   "display_name": "Python 3 (ipykernel)",
   "language": "python",
   "name": "python3"
  },
  "language_info": {
   "codemirror_mode": {
    "name": "ipython",
    "version": 3
   },
   "file_extension": ".py",
   "mimetype": "text/x-python",
   "name": "python",
   "nbconvert_exporter": "python",
   "pygments_lexer": "ipython3",
   "version": "3.11.5"
  }
 },
 "nbformat": 4,
 "nbformat_minor": 5
}
